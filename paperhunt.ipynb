{
  "nbformat": 4,
  "nbformat_minor": 0,
  "metadata": {
    "colab": {
      "name": "paperhunt.ipynb",
      "provenance": [],
      "collapsed_sections": [],
      "authorship_tag": "ABX9TyP2GMiOJ8INus4F4Zvz4O6/",
      "include_colab_link": true
    },
    "kernelspec": {
      "name": "python3",
      "display_name": "Python 3"
    }
  },
  "cells": [
    {
      "cell_type": "markdown",
      "metadata": {
        "id": "view-in-github",
        "colab_type": "text"
      },
      "source": [
        "<a href=\"https://colab.research.google.com/github/VasudevGupta7/paper-hunt/blob/master/paperhunt.ipynb\" target=\"_parent\"><img src=\"https://colab.research.google.com/assets/colab-badge.svg\" alt=\"Open In Colab\"/></a>"
      ]
    },
    {
      "cell_type": "code",
      "metadata": {
        "id": "Dz5NcYbYwSFO"
      },
      "source": [
        "!git clone https://github.com/VasudevGupta7/paperhunt.git\n",
        "!cd paperhunt"
      ],
      "execution_count": null,
      "outputs": []
    },
    {
      "cell_type": "code",
      "metadata": {
        "id": "AIbs1o0nwezi"
      },
      "source": [
        "!source entrypoint.sh"
      ],
      "execution_count": null,
      "outputs": []
    },
    {
      "cell_type": "code",
      "metadata": {
        "id": "N7EkZV59wfvH",
        "outputId": "9b637c21-7552-4451-c0a6-a62f811e73c1",
        "colab": {
          "base_uri": "https://localhost:8080/"
        }
      },
      "source": [
        "!python paperhunt.py -foq \"transformers\""
      ],
      "execution_count": 5,
      "outputs": [
        {
          "output_type": "stream",
          "text": [
            "fetching trending papers based on yesterday's tweets ...\n",
            "||DONE|| Succesfully fetched 100 papers into database.\n",
            "loading database of papers\n",
            "Initiating the search engine\n",
            "matching similarity .. : 100% 100/100 [00:00<00:00, 101.95it/s]\n",
            "======= MATCHING PAPERS ARE =======\n",
            "Fourier Neural Operator for Parametric Partial Differential Equations\n",
            "===================================\n",
            "opening http://arxiv.org/abs/2010.08895v1 in your default browser\n"
          ],
          "name": "stdout"
        }
      ]
    },
    {
      "cell_type": "code",
      "metadata": {
        "id": "-moH6DD_xKzB"
      },
      "source": [
        ""
      ],
      "execution_count": null,
      "outputs": []
    }
  ]
}